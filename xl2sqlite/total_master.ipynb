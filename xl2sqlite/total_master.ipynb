{
 "cells": [
  {
   "cell_type": "code",
   "execution_count": null,
   "id": "57fd4121",
   "metadata": {},
   "outputs": [],
   "source": [
    "from functions import *"
   ]
  },
  {
   "cell_type": "code",
   "execution_count": null,
   "id": "bc16a5ff",
   "metadata": {},
   "outputs": [],
   "source": [
    "#I\n",
    "personnes1 = Xlopen('1672-1700 Personnes')\n",
    "bateaux1 = Xlopen('1672-1700 Bateaux')\n",
    "affaires1 = Xlopen('1672-1700 Affaires diverses')\n",
    "#II\n",
    "personnes2 = Xlopen('1701-1705 Personnes')\n",
    "bateaux2 = Xlopen('1701-1705 Bateaux')\n",
    "affaires2 = Xlopen('1701-1705 Affaires diverses')\n",
    "#III\n",
    "personnes3 = Xlopen('1706-1710 Personnes')\n",
    "bateaux3 = Xlopen('1706-1710 Bateaux')\n",
    "affaires3 = Xlopen('1706-1710 Affaires diverses')\n",
    "#IV\n",
    "personnes4 = Xlopen('1711-1715 Personnes')\n",
    "bateaux4 = Xlopen('1711-1715 Bateaux')\n",
    "affaires4 = Xlopen('1711-1715 Affaires diverses')\n",
    "#V\n",
    "personnes5 = Xlopen('1716-1720 Personnes')\n",
    "bateaux5 = Xlopen('1716-1720 Bateaux')\n",
    "#VI\n",
    "personnes6 = Xlopen('1726-1730 Personnes')\n",
    "bateaux6 = Xlopen('1726-1730 Bateaux')\n",
    "affaires6 = Xlopen('1726-1730 Affaires diverses')\n",
    "#VII\n",
    "personnes7 = Xlopen('1731-1735 Personnes')\n",
    "bateaux7 = Xlopen('1731-1735 Bateaux')\n",
    "affaires7 = Xlopen('1731-1735 Affaires diverses')\n",
    "#VIII\n",
    "personnes8 = Xlopen('1735-1740 Personnes')\n",
    "bateaux8 = Xlopen('1735-1740 Bateaux')\n",
    "affaires8 = Xlopen('1736-1740 Affaires diverses')"
   ]
  },
  {
   "cell_type": "code",
   "execution_count": null,
   "id": "913d4f57",
   "metadata": {},
   "outputs": [],
   "source": [
    "#I\n",
    "Xlclean(personnes1) \n",
    "Xlclean(bateaux1) \n",
    "Xlclean(affaires1)\n",
    "#II\n",
    "Xlclean(personnes2) \n",
    "Xlclean(bateaux2) \n",
    "Xlclean(affaires2) \n",
    "#III\n",
    "Xlclean(personnes3) \n",
    "Xlclean(bateaux3) \n",
    "Xlclean(affaires3) \n",
    "#IV\n",
    "Xlclean(personnes4) \n",
    "Xlclean(bateaux4) \n",
    "Xlclean(affaires4) \n",
    "#V\n",
    "Xlclean(personnes5) \n",
    "Xlclean(bateaux5) \n",
    "#VI\n",
    "Xlclean(personnes6) \n",
    "Xlclean(bateaux6) \n",
    "Xlclean(affaires6)\n",
    "#VII\n",
    "Xlclean(personnes7) \n",
    "Xlclean(bateaux7) \n",
    "Xlclean(affaires7) \n",
    "#VIII\n",
    "Xlclean(personnes8) \n",
    "Xlclean(bateaux8) \n",
    "Xlclean(affaires8) "
   ]
  },
  {
   "cell_type": "code",
   "execution_count": null,
   "id": "41e1fa2a",
   "metadata": {},
   "outputs": [],
   "source": [
    "personnes = pd.concat([personnes1,personnes2,personnes3,personnes4,personnes5,personnes6,personnes7,personnes8])\n",
    "bateaux  = pd.concat([bateaux1,bateaux2,bateaux3,bateaux4,bateaux5,bateaux6,bateaux7,bateaux8])\n",
    "affaires = pd.concat([affaires1,affaires2,affaires3,affaires4,affaires6,affaires7,affaires8])"
   ]
  },
  {
   "cell_type": "code",
   "execution_count": null,
   "id": "6578b82a",
   "metadata": {},
   "outputs": [],
   "source": [
    "Type_column(personnes, \"personnes\")\n",
    "Type_column(bateaux, \"bateaux\")\n",
    "Type_column(affaires, \"affaires\")\n",
    "NomID(personnes)\n",
    "NomID(bateaux)\n",
    "NomID(affaires)"
   ]
  },
  {
   "cell_type": "code",
   "execution_count": null,
   "id": "1d33d9dc",
   "metadata": {},
   "outputs": [],
   "source": [
    "master = Master_concat(personnes, bateaux, affaires)"
   ]
  },
  {
   "cell_type": "code",
   "execution_count": null,
   "id": "0aceb5fd",
   "metadata": {},
   "outputs": [],
   "source": [
    "master"
   ]
  },
  {
   "cell_type": "code",
   "execution_count": null,
   "id": "e8143fee",
   "metadata": {},
   "outputs": [],
   "source": [
    "master.to_excel('/Users/Theo/dev/projet_ardouin/xl2sqlite/master_table.xlsx', index=False)"
   ]
  }
 ],
 "metadata": {
  "kernelspec": {
   "display_name": "Python 3 (ipykernel)",
   "language": "python",
   "name": "python3"
  },
  "language_info": {
   "codemirror_mode": {
    "name": "ipython",
    "version": 3
   },
   "file_extension": ".py",
   "mimetype": "text/x-python",
   "name": "python",
   "nbconvert_exporter": "python",
   "pygments_lexer": "ipython3",
   "version": "3.8.12"
  }
 },
 "nbformat": 4,
 "nbformat_minor": 5
}
