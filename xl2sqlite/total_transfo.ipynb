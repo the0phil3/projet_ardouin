{
 "cells": [
  {
   "cell_type": "code",
   "execution_count": 1,
   "id": "8ae3b756",
   "metadata": {},
   "outputs": [],
   "source": [
    "from sql import *"
   ]
  },
  {
   "cell_type": "code",
   "execution_count": 2,
   "id": "ab6f9533",
   "metadata": {},
   "outputs": [
    {
     "data": {
      "text/plain": [
       "'/Users/Theo/dev/projet_ardouin/xl2sqlite'"
      ]
     },
     "execution_count": 2,
     "metadata": {},
     "output_type": "execute_result"
    }
   ],
   "source": [
    "pwd"
   ]
  },
  {
   "cell_type": "code",
   "execution_count": 3,
   "id": "bd8c98b0",
   "metadata": {},
   "outputs": [
    {
     "name": "stdout",
     "output_type": "stream",
     "text": [
      "total 376\r\n",
      "drwxr-xr-x  15 Theo  staff    480 Jun 20 14:11 \u001b[34m.\u001b[m\u001b[m/\r\n",
      "drwxr-xr-x  14 Theo  staff    448 Jun 20 11:22 \u001b[34m..\u001b[m\u001b[m/\r\n",
      "-rw-r--r--@  1 Theo  staff   8196 Jun 20 13:55 .DS_Store\r\n",
      "drwxr-xr-x   9 Theo  staff    288 Jun 20 12:05 \u001b[34m.ipynb_checkpoints\u001b[m\u001b[m/\r\n",
      "drwxr-xr-x   9 Theo  staff    288 Jun 20 12:05 \u001b[34mII\u001b[m\u001b[m/\r\n",
      "drwxr-xr-x   4 Theo  staff    128 Jun 20 14:03 \u001b[34m__pycache__\u001b[m\u001b[m/\r\n",
      "-rw-r--r--@  1 Theo  staff   1511 Jun 20 14:11 architecture.sql\r\n",
      "-rw-r--r--   1 Theo  staff   5145 Jun 20 14:02 functions.py\r\n",
      "drwxr-xr-x  11 Theo  staff    352 Jun 20 14:12 \u001b[34moutput\u001b[m\u001b[m/\r\n",
      "-rw-r--r--   1 Theo  staff   1214 Jun 20 11:39 sql.py\r\n",
      "-rw-r--r--   1 Theo  staff  41310 Jun 20 14:07 total_archives.ipynb\r\n",
      "-rw-r--r--   1 Theo  staff  35149 Jun 20 14:07 total_content.ipynb\r\n",
      "-rw-r--r--   1 Theo  staff  29292 Jun 20 14:09 total_control.ipynb\r\n",
      "-rw-r--r--   1 Theo  staff  38100 Jun 20 14:07 total_master.ipynb\r\n",
      "-rw-r--r--   1 Theo  staff   4101 Jun 20 14:09 total_transfo.ipynb\r\n"
     ]
    }
   ],
   "source": [
    "ls -all"
   ]
  },
  {
   "cell_type": "code",
   "execution_count": 4,
   "id": "cb7cbffa",
   "metadata": {},
   "outputs": [],
   "source": [
    "ExecuteSQL(\"/Users/Theo/dev/projet_ardouin/xl2sqlite/output/final.db\", \"/Users/Theo/dev/projet_ardouin/xl2sqlite/architecture.sql\")"
   ]
  },
  {
   "cell_type": "code",
   "execution_count": 5,
   "id": "c93279b5",
   "metadata": {},
   "outputs": [
    {
     "name": "stderr",
     "output_type": "stream",
     "text": [
      "/var/folders/41/1r7_f1_93g56d738vfqw0y8m0000gn/T/ipykernel_31714/203734498.py:3: DtypeWarning: Columns (3,4,5,6,8,14,15,21) have mixed types. Specify dtype option on import or set low_memory=False.\n",
      "  did =  pd.read_csv('/Users/Theo/dev/projet_ardouin/xl2sqlite/output/archives_table.csv', header=0)\n"
     ]
    }
   ],
   "source": [
    "master = pd.read_csv('/Users/Theo/dev/projet_ardouin/xl2sqlite/output/master_table.csv', header=0)\n",
    "scopecontent =  pd.read_csv('/Users/Theo/dev/projet_ardouin/xl2sqlite/output/contenu_table.csv', header=0)\n",
    "did =  pd.read_csv('/Users/Theo/dev/projet_ardouin/xl2sqlite/output/archives_table.csv', header=0)\n",
    "controlaccess = pd.read_csv('/Users/Theo/dev/projet_ardouin/xl2sqlite/output/control_table.csv', header=0)"
   ]
  },
  {
   "cell_type": "code",
   "execution_count": 6,
   "id": "3c0a6ec7",
   "metadata": {},
   "outputs": [],
   "source": [
    "tablesList = ['master','did','scopecontent', 'controlaccess']\n",
    "FillTables(\"/Users/Theo/dev/projet_ardouin/xl2sqlite/output/final.db\", master, did, scopecontent, controlaccess, titles=tablesList)"
   ]
  }
 ],
 "metadata": {
  "kernelspec": {
   "display_name": "Python 3 (ipykernel)",
   "language": "python",
   "name": "python3"
  },
  "language_info": {
   "codemirror_mode": {
    "name": "ipython",
    "version": 3
   },
   "file_extension": ".py",
   "mimetype": "text/x-python",
   "name": "python",
   "nbconvert_exporter": "python",
   "pygments_lexer": "ipython3",
   "version": "3.8.12"
  }
 },
 "nbformat": 4,
 "nbformat_minor": 5
}
