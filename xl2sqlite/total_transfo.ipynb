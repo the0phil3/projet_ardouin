{
 "cells": [
  {
   "cell_type": "code",
   "execution_count": 1,
   "id": "8ae3b756",
   "metadata": {},
   "outputs": [],
   "source": [
    "from sql import *"
   ]
  },
  {
   "cell_type": "code",
   "execution_count": 2,
   "id": "cb7cbffa",
   "metadata": {},
   "outputs": [],
   "source": [
    "ExecuteSQL(\"/Users/Theo/dev/projet_ardouin/xl2sqlite/output/final.db\", \"/Users/Theo/dev/projet_ardouin/xl2sqlite/architecture.sql\")"
   ]
  },
  {
   "cell_type": "code",
   "execution_count": 3,
   "id": "c93279b5",
   "metadata": {},
   "outputs": [
    {
     "name": "stderr",
     "output_type": "stream",
     "text": [
      "/var/folders/41/1r7_f1_93g56d738vfqw0y8m0000gn/T/ipykernel_30083/203734498.py:3: DtypeWarning: Columns (3,4,5,6,8,14,15,21) have mixed types. Specify dtype option on import or set low_memory=False.\n",
      "  did =  pd.read_csv('/Users/Theo/dev/projet_ardouin/xl2sqlite/output/archives_table.csv', header=0)\n"
     ]
    }
   ],
   "source": [
    "master = pd.read_csv('/Users/Theo/dev/projet_ardouin/xl2sqlite/output/master_table.csv', header=0)\n",
    "scopecontent =  pd.read_csv('/Users/Theo/dev/projet_ardouin/xl2sqlite/output/contenu_table.csv', header=0)\n",
    "did =  pd.read_csv('/Users/Theo/dev/projet_ardouin/xl2sqlite/output/archives_table.csv', header=0)\n",
    "controlaccess = pd.read_csv('/Users/Theo/dev/projet_ardouin/xl2sqlite/output/control_table.csv', header=0)"
   ]
  },
  {
   "cell_type": "code",
   "execution_count": 4,
   "id": "3c0a6ec7",
   "metadata": {},
   "outputs": [],
   "source": [
    "tablesList = ['master','did','scopecontent', 'controlaccess']\n",
    "FillTables(\"/Users/Theo/dev/projet_ardouin/xl2sqlite/output/final.db\", master, did, scopecontent, controlaccess, titles=tablesList)"
   ]
  }
 ],
 "metadata": {
  "kernelspec": {
   "display_name": "Python 3 (ipykernel)",
   "language": "python",
   "name": "python3"
  },
  "language_info": {
   "codemirror_mode": {
    "name": "ipython",
    "version": 3
   },
   "file_extension": ".py",
   "mimetype": "text/x-python",
   "name": "python",
   "nbconvert_exporter": "python",
   "pygments_lexer": "ipython3",
   "version": "3.8.12"
  }
 },
 "nbformat": 4,
 "nbformat_minor": 5
}
