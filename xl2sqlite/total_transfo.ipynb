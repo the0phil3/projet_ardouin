{
 "cells": [
  {
   "cell_type": "code",
   "execution_count": 1,
   "id": "8ae3b756",
   "metadata": {},
   "outputs": [],
   "source": [
    "from sql import *"
   ]
  },
  {
   "cell_type": "code",
   "execution_count": 2,
   "id": "ab6f9533",
   "metadata": {},
   "outputs": [
    {
     "data": {
      "text/plain": [
       "'/Users/Theo/dev/projet_ardouin/xl2sqlite'"
      ]
     },
     "execution_count": 2,
     "metadata": {},
     "output_type": "execute_result"
    }
   ],
   "source": [
    "pwd"
   ]
  },
  {
   "cell_type": "code",
   "execution_count": 3,
   "id": "bd8c98b0",
   "metadata": {},
   "outputs": [
    {
     "name": "stdout",
     "output_type": "stream",
     "text": [
      "total 440\r\n",
      "drwxr-xr-x  16 Theo  staff    512 Jun 20 10:38 \u001b[34m.\u001b[m\u001b[m/\r\n",
      "drwxr-xr-x  13 Theo  staff    416 Jun 15 17:20 \u001b[34m..\u001b[m\u001b[m/\r\n",
      "-rw-r--r--@  1 Theo  staff   8196 Jun 16 13:53 .DS_Store\r\n",
      "drwxr-xr-x   8 Theo  staff    256 Jun 16 10:56 \u001b[34m.ipynb_checkpoints\u001b[m\u001b[m/\r\n",
      "drwxr-xr-x   7 Theo  staff    224 Jun 15 17:11 \u001b[34mII\u001b[m\u001b[m/\r\n",
      "drwxr-xr-x   4 Theo  staff    128 Jun 20 10:37 \u001b[34m__pycache__\u001b[m\u001b[m/\r\n",
      "-rw-r--r--@  1 Theo  staff   1294 Jun 20 10:34 architecture.sql\r\n",
      "-rw-r--r--   1 Theo  staff   4711 Jun 20 10:34 functions.py\r\n",
      "drwxr-xr-x   9 Theo  staff    288 Jun 20 10:30 \u001b[34moutput\u001b[m\u001b[m/\r\n",
      "-rw-r--r--   1 Theo  staff  61800 Jun 16 11:03 reorganisation_tome2.ipynb\r\n",
      "-rw-r--r--   1 Theo  staff   1194 Jun 14 11:15 sql.py\r\n",
      "-rw-r--r--   1 Theo  staff  40841 Jun 20 10:38 total_archives.ipynb\r\n",
      "-rw-r--r--   1 Theo  staff  35748 Jun 20 10:38 total_content.ipynb\r\n",
      "-rw-r--r--   1 Theo  staff  37735 Jun 20 10:38 total_master.ipynb\r\n",
      "-rw-r--r--   1 Theo  staff   4053 Jun 20 10:36 total_transfo.ipynb\r\n",
      "-rw-r--r--   1 Theo  staff   4196 Jun 16 15:27 transformation_tome2.ipynb\r\n"
     ]
    }
   ],
   "source": [
    "ls -all"
   ]
  },
  {
   "cell_type": "code",
   "execution_count": 4,
   "id": "cb7cbffa",
   "metadata": {},
   "outputs": [],
   "source": [
    "ExecuteSQL(\"/Users/Theo/dev/projet_ardouin/xl2sqlite/output/final.db\", \"/Users/Theo/dev/projet_ardouin/xl2sqlite/architecture.sql\")"
   ]
  },
  {
   "cell_type": "code",
   "execution_count": 5,
   "id": "c93279b5",
   "metadata": {},
   "outputs": [
    {
     "name": "stderr",
     "output_type": "stream",
     "text": [
      "/var/folders/41/1r7_f1_93g56d738vfqw0y8m0000gn/T/ipykernel_22118/2320162821.py:3: DtypeWarning: Columns (2,3,4,5,7,13,14,20) have mixed types. Specify dtype option on import or set low_memory=False.\n",
      "  did =  pd.read_csv('/Users/Theo/dev/projet_ardouin/xl2sqlite/output/archives_table.csv', header=0)\n"
     ]
    }
   ],
   "source": [
    "master = pd.read_csv('/Users/Theo/dev/projet_ardouin/xl2sqlite/output/master_table.csv', header=0)\n",
    "scopecontent =  pd.read_csv('/Users/Theo/dev/projet_ardouin/xl2sqlite/output/contenu_table.csv', header=0)\n",
    "did =  pd.read_csv('/Users/Theo/dev/projet_ardouin/xl2sqlite/output/archives_table.csv', header=0)"
   ]
  },
  {
   "cell_type": "code",
   "execution_count": 6,
   "id": "3c0a6ec7",
   "metadata": {},
   "outputs": [],
   "source": [
    "tablesList = ['master','did','scopecontent']\n",
    "FillTables(\"/Users/Theo/dev/projet_ardouin/xl2sqlite/output/final.db\", master, did, scopecontent, titles=tablesList)"
   ]
  }
 ],
 "metadata": {
  "kernelspec": {
   "display_name": "Python 3 (ipykernel)",
   "language": "python",
   "name": "python3"
  },
  "language_info": {
   "codemirror_mode": {
    "name": "ipython",
    "version": 3
   },
   "file_extension": ".py",
   "mimetype": "text/x-python",
   "name": "python",
   "nbconvert_exporter": "python",
   "pygments_lexer": "ipython3",
   "version": "3.8.12"
  }
 },
 "nbformat": 4,
 "nbformat_minor": 5
}
