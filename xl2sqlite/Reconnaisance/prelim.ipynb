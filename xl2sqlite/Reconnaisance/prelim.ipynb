{
 "cells": [
  {
   "cell_type": "markdown",
   "id": "74e85988",
   "metadata": {},
   "source": [
    "# Verification préliminaire avant de faire une classification par sujet (personne, affaire, bateaux)"
   ]
  },
  {
   "cell_type": "code",
   "execution_count": 1,
   "id": "4fbf69fc",
   "metadata": {},
   "outputs": [],
   "source": [
    "import pandas as pd\n",
    "from fuzzywuzzy import process, fuzz\n",
    "import matplotlib.pyplot as plt"
   ]
  },
  {
   "cell_type": "code",
   "execution_count": 2,
   "id": "e544a72e",
   "metadata": {},
   "outputs": [],
   "source": [
    "latotale = pd.read_csv('latotale.tsv',sep=\"\\t\")\n",
    "del latotale['function']\n",
    "latotale_list = list(latotale['unittitle'])"
   ]
  },
  {
   "cell_type": "code",
   "execution_count": 3,
   "id": "f5d41f41",
   "metadata": {},
   "outputs": [],
   "source": [
    "onglet1 = pd.read_csv('onglet1.tsv', sep=\"\\t\")\n",
    "onglet1_list = list(onglet1['unittitle'])"
   ]
  },
  {
   "cell_type": "code",
   "execution_count": 4,
   "id": "b6fc5ece",
   "metadata": {},
   "outputs": [],
   "source": [
    "diff = pd.read_csv('diff.tsv',sep=\"\\t\")\n",
    "diff_list = list(diff['unittitle'])"
   ]
  },
  {
   "cell_type": "code",
   "execution_count": 5,
   "id": "59f669f6",
   "metadata": {},
   "outputs": [
    {
     "data": {
      "text/html": [
       "<div>\n",
       "<style scoped>\n",
       "    .dataframe tbody tr th:only-of-type {\n",
       "        vertical-align: middle;\n",
       "    }\n",
       "\n",
       "    .dataframe tbody tr th {\n",
       "        vertical-align: top;\n",
       "    }\n",
       "\n",
       "    .dataframe thead th {\n",
       "        text-align: right;\n",
       "    }\n",
       "</style>\n",
       "<table border=\"1\" class=\"dataframe\">\n",
       "  <thead>\n",
       "    <tr style=\"text-align: right;\">\n",
       "      <th></th>\n",
       "      <th>unittitle</th>\n",
       "    </tr>\n",
       "  </thead>\n",
       "  <tbody>\n",
       "    <tr>\n",
       "      <th>0</th>\n",
       "      <td>Bapaume, Peufier dit</td>\n",
       "    </tr>\n",
       "    <tr>\n",
       "      <th>1</th>\n",
       "      <td>Durand,Jean</td>\n",
       "    </tr>\n",
       "    <tr>\n",
       "      <th>2</th>\n",
       "      <td>Duranteau,la nommée</td>\n",
       "    </tr>\n",
       "    <tr>\n",
       "      <th>3</th>\n",
       "      <td>Durivaud (Alias Du Rivau,Du Rivaux</td>\n",
       "    </tr>\n",
       "    <tr>\n",
       "      <th>4</th>\n",
       "      <td>Duroulet,Delle</td>\n",
       "    </tr>\n",
       "    <tr>\n",
       "      <th>...</th>\n",
       "      <td>...</td>\n",
       "    </tr>\n",
       "    <tr>\n",
       "      <th>1644</th>\n",
       "      <td>Latremblade</td>\n",
       "    </tr>\n",
       "    <tr>\n",
       "      <th>1645</th>\n",
       "      <td>Lupin,fort</td>\n",
       "    </tr>\n",
       "    <tr>\n",
       "      <th>1646</th>\n",
       "      <td>Madame île</td>\n",
       "    </tr>\n",
       "    <tr>\n",
       "      <th>1647</th>\n",
       "      <td>Martinique,île de la</td>\n",
       "    </tr>\n",
       "    <tr>\n",
       "      <th>1648</th>\n",
       "      <td>Officiers.</td>\n",
       "    </tr>\n",
       "  </tbody>\n",
       "</table>\n",
       "<p>1649 rows × 1 columns</p>\n",
       "</div>"
      ],
      "text/plain": [
       "                               unittitle\n",
       "0                   Bapaume, Peufier dit\n",
       "1                            Durand,Jean\n",
       "2                    Duranteau,la nommée\n",
       "3     Durivaud (Alias Du Rivau,Du Rivaux\n",
       "4                         Duroulet,Delle\n",
       "...                                  ...\n",
       "1644                         Latremblade\n",
       "1645                          Lupin,fort\n",
       "1646                          Madame île\n",
       "1647                Martinique,île de la\n",
       "1648                          Officiers.\n",
       "\n",
       "[1649 rows x 1 columns]"
      ]
     },
     "execution_count": 5,
     "metadata": {},
     "output_type": "execute_result"
    }
   ],
   "source": [
    "diff"
   ]
  },
  {
   "cell_type": "code",
   "execution_count": 6,
   "id": "a79976f6",
   "metadata": {},
   "outputs": [],
   "source": [
    "def Normaliser1():\n",
    "    diff_unittitles = []\n",
    "    similarity = []\n",
    "    \n",
    "    for i in diff.unittitle:\n",
    "        ratio = process.extract(i , onglet1.unittitle, limit=1)\n",
    "        diff_unittitles.append(ratio[0][0])\n",
    "        similarity.append(ratio[0][1])\n",
    "        \n",
    "    \n",
    "    diff['word'] = pd.Series(diff_unittitles)\n",
    "    diff['ratio'] = pd.Series(similarity)\n",
    "    \n",
    "    return(diff)"
   ]
  },
  {
   "cell_type": "code",
   "execution_count": 7,
   "id": "46499f07",
   "metadata": {},
   "outputs": [
    {
     "name": "stdout",
     "output_type": "stream",
     "text": [
      "CPU times: user 14min 7s, sys: 4.05 s, total: 14min 11s\n",
      "Wall time: 14min 17s\n"
     ]
    },
    {
     "data": {
      "text/html": [
       "<div>\n",
       "<style scoped>\n",
       "    .dataframe tbody tr th:only-of-type {\n",
       "        vertical-align: middle;\n",
       "    }\n",
       "\n",
       "    .dataframe tbody tr th {\n",
       "        vertical-align: top;\n",
       "    }\n",
       "\n",
       "    .dataframe thead th {\n",
       "        text-align: right;\n",
       "    }\n",
       "</style>\n",
       "<table border=\"1\" class=\"dataframe\">\n",
       "  <thead>\n",
       "    <tr style=\"text-align: right;\">\n",
       "      <th></th>\n",
       "      <th>unittitle</th>\n",
       "      <th>word</th>\n",
       "      <th>ratio</th>\n",
       "    </tr>\n",
       "  </thead>\n",
       "  <tbody>\n",
       "    <tr>\n",
       "      <th>0</th>\n",
       "      <td>Bapaume, Peufier dit</td>\n",
       "      <td>Pommery, Gabriel dit La Champignère</td>\n",
       "      <td>86</td>\n",
       "    </tr>\n",
       "    <tr>\n",
       "      <th>1</th>\n",
       "      <td>Durand,Jean</td>\n",
       "      <td>Durand, Jean</td>\n",
       "      <td>96</td>\n",
       "    </tr>\n",
       "    <tr>\n",
       "      <th>2</th>\n",
       "      <td>Duranteau,la nommée</td>\n",
       "      <td>Duranteau, la nommée</td>\n",
       "      <td>97</td>\n",
       "    </tr>\n",
       "    <tr>\n",
       "      <th>3</th>\n",
       "      <td>Durivaud (Alias Du Rivau,Du Rivaux</td>\n",
       "      <td>Durivaud</td>\n",
       "      <td>90</td>\n",
       "    </tr>\n",
       "    <tr>\n",
       "      <th>4</th>\n",
       "      <td>Duroulet,Delle</td>\n",
       "      <td>Duroulet, Demoiselle</td>\n",
       "      <td>82</td>\n",
       "    </tr>\n",
       "    <tr>\n",
       "      <th>...</th>\n",
       "      <td>...</td>\n",
       "      <td>...</td>\n",
       "      <td>...</td>\n",
       "    </tr>\n",
       "    <tr>\n",
       "      <th>1644</th>\n",
       "      <td>Latremblade</td>\n",
       "      <td>La Tremblade</td>\n",
       "      <td>96</td>\n",
       "    </tr>\n",
       "    <tr>\n",
       "      <th>1645</th>\n",
       "      <td>Lupin,fort</td>\n",
       "      <td>Lupin, fort</td>\n",
       "      <td>95</td>\n",
       "    </tr>\n",
       "    <tr>\n",
       "      <th>1646</th>\n",
       "      <td>Madame île</td>\n",
       "      <td>Madame, île</td>\n",
       "      <td>95</td>\n",
       "    </tr>\n",
       "    <tr>\n",
       "      <th>1647</th>\n",
       "      <td>Martinique,île de la</td>\n",
       "      <td>Martinique, île de la</td>\n",
       "      <td>97</td>\n",
       "    </tr>\n",
       "    <tr>\n",
       "      <th>1648</th>\n",
       "      <td>Officiers.</td>\n",
       "      <td>Officiers</td>\n",
       "      <td>100</td>\n",
       "    </tr>\n",
       "  </tbody>\n",
       "</table>\n",
       "<p>1649 rows × 3 columns</p>\n",
       "</div>"
      ],
      "text/plain": [
       "                               unittitle                                 word  \\\n",
       "0                   Bapaume, Peufier dit  Pommery, Gabriel dit La Champignère   \n",
       "1                            Durand,Jean                         Durand, Jean   \n",
       "2                    Duranteau,la nommée                 Duranteau, la nommée   \n",
       "3     Durivaud (Alias Du Rivau,Du Rivaux                             Durivaud   \n",
       "4                         Duroulet,Delle                 Duroulet, Demoiselle   \n",
       "...                                  ...                                  ...   \n",
       "1644                         Latremblade                         La Tremblade   \n",
       "1645                          Lupin,fort                          Lupin, fort   \n",
       "1646                          Madame île                          Madame, île   \n",
       "1647                Martinique,île de la                Martinique, île de la   \n",
       "1648                          Officiers.                            Officiers   \n",
       "\n",
       "      ratio  \n",
       "0        86  \n",
       "1        96  \n",
       "2        97  \n",
       "3        90  \n",
       "4        82  \n",
       "...     ...  \n",
       "1644     96  \n",
       "1645     95  \n",
       "1646     95  \n",
       "1647     97  \n",
       "1648    100  \n",
       "\n",
       "[1649 rows x 3 columns]"
      ]
     },
     "execution_count": 7,
     "metadata": {},
     "output_type": "execute_result"
    }
   ],
   "source": [
    "%time Normaliser1()"
   ]
  },
  {
   "cell_type": "code",
   "execution_count": 8,
   "id": "0c54966e",
   "metadata": {},
   "outputs": [],
   "source": [
    "diff.to_csv('matched_corpus.tsv', sep=\"\\t\", index=False)"
   ]
  },
  {
   "cell_type": "code",
   "execution_count": null,
   "id": "de42b4dc",
   "metadata": {},
   "outputs": [],
   "source": []
  }
 ],
 "metadata": {
  "kernelspec": {
   "display_name": "Python 3 (ipykernel)",
   "language": "python",
   "name": "python3"
  },
  "language_info": {
   "codemirror_mode": {
    "name": "ipython",
    "version": 3
   },
   "file_extension": ".py",
   "mimetype": "text/x-python",
   "name": "python",
   "nbconvert_exporter": "python",
   "pygments_lexer": "ipython3",
   "version": "3.8.12"
  }
 },
 "nbformat": 4,
 "nbformat_minor": 5
}
