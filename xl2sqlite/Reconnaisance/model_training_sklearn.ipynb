{
 "cells": [
  {
   "cell_type": "code",
   "execution_count": 23,
   "id": "f014c520",
   "metadata": {},
   "outputs": [],
   "source": [
    "import pandas as pd, numpy as np\n",
    "from fuzzywuzzy import process, fuzz\n",
    "import matplotlib.pyplot as plt\n",
    "import seaborn as sns\n",
    "import string \n",
    "import sklearn\n",
    "from sklearn.feature_extraction.text import CountVectorizer\n",
    "from sklearn.model_selection import train_test_split\n",
    "from sklearn.naive_bayes import MultinomialNB\n",
    "from sklearn.metrics import classification_report, confusion_matrix, accuracy_score"
   ]
  },
  {
   "cell_type": "code",
   "execution_count": 2,
   "id": "553f4fe4",
   "metadata": {},
   "outputs": [
    {
     "data": {
      "text/html": [
       "<div>\n",
       "<style scoped>\n",
       "    .dataframe tbody tr th:only-of-type {\n",
       "        vertical-align: middle;\n",
       "    }\n",
       "\n",
       "    .dataframe tbody tr th {\n",
       "        vertical-align: top;\n",
       "    }\n",
       "\n",
       "    .dataframe thead th {\n",
       "        text-align: right;\n",
       "    }\n",
       "</style>\n",
       "<table border=\"1\" class=\"dataframe\">\n",
       "  <thead>\n",
       "    <tr style=\"text-align: right;\">\n",
       "      <th></th>\n",
       "      <th>unittitle</th>\n",
       "      <th>function</th>\n",
       "    </tr>\n",
       "  </thead>\n",
       "  <tbody>\n",
       "    <tr>\n",
       "      <th>0</th>\n",
       "      <td>Adrien, Veuve Timothée</td>\n",
       "      <td>Personne</td>\n",
       "    </tr>\n",
       "    <tr>\n",
       "      <th>1</th>\n",
       "      <td>Aigron, Demoiselle</td>\n",
       "      <td>Personne</td>\n",
       "    </tr>\n",
       "    <tr>\n",
       "      <th>2</th>\n",
       "      <td>Albert, Jean</td>\n",
       "      <td>Personne</td>\n",
       "    </tr>\n",
       "    <tr>\n",
       "      <th>3</th>\n",
       "      <td>Aldin, Jean (alias Alding)</td>\n",
       "      <td>Personne</td>\n",
       "    </tr>\n",
       "    <tr>\n",
       "      <th>4</th>\n",
       "      <td>Alizeau, François</td>\n",
       "      <td>Personne</td>\n",
       "    </tr>\n",
       "    <tr>\n",
       "      <th>...</th>\n",
       "      <td>...</td>\n",
       "      <td>...</td>\n",
       "    </tr>\n",
       "    <tr>\n",
       "      <th>10873</th>\n",
       "      <td>Compagnie de la mer du Sud</td>\n",
       "      <td>Affaire</td>\n",
       "    </tr>\n",
       "    <tr>\n",
       "      <th>10874</th>\n",
       "      <td>Croix de vie</td>\n",
       "      <td>Affaire</td>\n",
       "    </tr>\n",
       "    <tr>\n",
       "      <th>10875</th>\n",
       "      <td>Invalides</td>\n",
       "      <td>Affaire</td>\n",
       "    </tr>\n",
       "    <tr>\n",
       "      <th>10876</th>\n",
       "      <td>Oléron, ile d’</td>\n",
       "      <td>Affaire</td>\n",
       "    </tr>\n",
       "    <tr>\n",
       "      <th>10877</th>\n",
       "      <td>Réjouissances publiques.</td>\n",
       "      <td>Affaire</td>\n",
       "    </tr>\n",
       "  </tbody>\n",
       "</table>\n",
       "<p>10878 rows × 2 columns</p>\n",
       "</div>"
      ],
      "text/plain": [
       "                        unittitle  function\n",
       "0          Adrien, Veuve Timothée  Personne\n",
       "1              Aigron, Demoiselle  Personne\n",
       "2                    Albert, Jean  Personne\n",
       "3      Aldin, Jean (alias Alding)  Personne\n",
       "4               Alizeau, François  Personne\n",
       "...                           ...       ...\n",
       "10873  Compagnie de la mer du Sud   Affaire\n",
       "10874                Croix de vie   Affaire\n",
       "10875                   Invalides   Affaire\n",
       "10876              Oléron, ile d’   Affaire\n",
       "10877    Réjouissances publiques.   Affaire\n",
       "\n",
       "[10878 rows x 2 columns]"
      ]
     },
     "execution_count": 2,
     "metadata": {},
     "output_type": "execute_result"
    }
   ],
   "source": [
    "training = pd.read_csv('cleaned_latotale.tsv', sep=\"\\t\")\n",
    "training"
   ]
  },
  {
   "cell_type": "code",
   "execution_count": 3,
   "id": "1161669e",
   "metadata": {},
   "outputs": [],
   "source": [
    "training['function'] = training.apply(lambda x: 0 if x['function']=='Personne' else x['function'], axis=1)\n",
    "training['function'] = training.apply(lambda x: 1 if x['function']=='Bateau' else x['function'], axis=1)\n",
    "training['function'] = training.apply(lambda x: 2 if x['function']=='Affaire' else x['function'], axis=1)"
   ]
  },
  {
   "cell_type": "code",
   "execution_count": 4,
   "id": "9d9ba58c",
   "metadata": {},
   "outputs": [
    {
     "data": {
      "text/html": [
       "<div>\n",
       "<style scoped>\n",
       "    .dataframe tbody tr th:only-of-type {\n",
       "        vertical-align: middle;\n",
       "    }\n",
       "\n",
       "    .dataframe tbody tr th {\n",
       "        vertical-align: top;\n",
       "    }\n",
       "\n",
       "    .dataframe thead th {\n",
       "        text-align: right;\n",
       "    }\n",
       "</style>\n",
       "<table border=\"1\" class=\"dataframe\">\n",
       "  <thead>\n",
       "    <tr style=\"text-align: right;\">\n",
       "      <th></th>\n",
       "      <th>unittitle</th>\n",
       "      <th>function</th>\n",
       "    </tr>\n",
       "  </thead>\n",
       "  <tbody>\n",
       "    <tr>\n",
       "      <th>0</th>\n",
       "      <td>Adrien, Veuve Timothée</td>\n",
       "      <td>0</td>\n",
       "    </tr>\n",
       "    <tr>\n",
       "      <th>1</th>\n",
       "      <td>Aigron, Demoiselle</td>\n",
       "      <td>0</td>\n",
       "    </tr>\n",
       "    <tr>\n",
       "      <th>2</th>\n",
       "      <td>Albert, Jean</td>\n",
       "      <td>0</td>\n",
       "    </tr>\n",
       "    <tr>\n",
       "      <th>3</th>\n",
       "      <td>Aldin, Jean (alias Alding)</td>\n",
       "      <td>0</td>\n",
       "    </tr>\n",
       "    <tr>\n",
       "      <th>4</th>\n",
       "      <td>Alizeau, François</td>\n",
       "      <td>0</td>\n",
       "    </tr>\n",
       "    <tr>\n",
       "      <th>...</th>\n",
       "      <td>...</td>\n",
       "      <td>...</td>\n",
       "    </tr>\n",
       "    <tr>\n",
       "      <th>10873</th>\n",
       "      <td>Compagnie de la mer du Sud</td>\n",
       "      <td>2</td>\n",
       "    </tr>\n",
       "    <tr>\n",
       "      <th>10874</th>\n",
       "      <td>Croix de vie</td>\n",
       "      <td>2</td>\n",
       "    </tr>\n",
       "    <tr>\n",
       "      <th>10875</th>\n",
       "      <td>Invalides</td>\n",
       "      <td>2</td>\n",
       "    </tr>\n",
       "    <tr>\n",
       "      <th>10876</th>\n",
       "      <td>Oléron, ile d’</td>\n",
       "      <td>2</td>\n",
       "    </tr>\n",
       "    <tr>\n",
       "      <th>10877</th>\n",
       "      <td>Réjouissances publiques.</td>\n",
       "      <td>2</td>\n",
       "    </tr>\n",
       "  </tbody>\n",
       "</table>\n",
       "<p>10878 rows × 2 columns</p>\n",
       "</div>"
      ],
      "text/plain": [
       "                        unittitle  function\n",
       "0          Adrien, Veuve Timothée         0\n",
       "1              Aigron, Demoiselle         0\n",
       "2                    Albert, Jean         0\n",
       "3      Aldin, Jean (alias Alding)         0\n",
       "4               Alizeau, François         0\n",
       "...                           ...       ...\n",
       "10873  Compagnie de la mer du Sud         2\n",
       "10874                Croix de vie         2\n",
       "10875                   Invalides         2\n",
       "10876              Oléron, ile d’         2\n",
       "10877    Réjouissances publiques.         2\n",
       "\n",
       "[10878 rows x 2 columns]"
      ]
     },
     "execution_count": 4,
     "metadata": {},
     "output_type": "execute_result"
    }
   ],
   "source": [
    "training"
   ]
  },
  {
   "cell_type": "code",
   "execution_count": 5,
   "id": "2c9b8b8f",
   "metadata": {},
   "outputs": [
    {
     "data": {
      "text/plain": [
       "(10878, 2)"
      ]
     },
     "execution_count": 5,
     "metadata": {},
     "output_type": "execute_result"
    }
   ],
   "source": [
    "training.shape"
   ]
  },
  {
   "cell_type": "code",
   "execution_count": 6,
   "id": "31f6b258",
   "metadata": {},
   "outputs": [],
   "source": [
    "training.drop_duplicates(inplace=True)"
   ]
  },
  {
   "cell_type": "code",
   "execution_count": 7,
   "id": "96e1d064",
   "metadata": {},
   "outputs": [
    {
     "data": {
      "text/plain": [
       "unittitle    0\n",
       "function     0\n",
       "dtype: int64"
      ]
     },
     "execution_count": 7,
     "metadata": {},
     "output_type": "execute_result"
    }
   ],
   "source": [
    "training.isnull().sum()"
   ]
  },
  {
   "cell_type": "code",
   "execution_count": 8,
   "id": "5af9a417",
   "metadata": {},
   "outputs": [
    {
     "data": {
      "text/plain": [
       "(10561, 2)"
      ]
     },
     "execution_count": 8,
     "metadata": {},
     "output_type": "execute_result"
    }
   ],
   "source": [
    "training.shape"
   ]
  },
  {
   "cell_type": "code",
   "execution_count": 9,
   "id": "041ab163",
   "metadata": {},
   "outputs": [],
   "source": [
    "def process_text(text):\n",
    "    #Remove punction\n",
    "    nopunc = [char for char in text if char not in string.punctuation]\n",
    "    nopunc = ''.join(nopunc)\n",
    "    \n",
    "    #Puts words in a list\n",
    "    word_list = [word for word in nopunc.split()]\n",
    "    \n",
    "    return word_list\n",
    "    \n",
    "    "
   ]
  },
  {
   "cell_type": "code",
   "execution_count": 10,
   "id": "384fbdc7",
   "metadata": {},
   "outputs": [
    {
     "data": {
      "text/plain": [
       "0       [Adrien, Veuve, Timothée]\n",
       "1            [Aigron, Demoiselle]\n",
       "2                  [Albert, Jean]\n",
       "3    [Aldin, Jean, alias, Alding]\n",
       "4             [Alizeau, François]\n",
       "Name: unittitle, dtype: object"
      ]
     },
     "execution_count": 10,
     "metadata": {},
     "output_type": "execute_result"
    }
   ],
   "source": [
    "training['unittitle'].head().apply(process_text)"
   ]
  },
  {
   "cell_type": "code",
   "execution_count": 11,
   "id": "de11c37a",
   "metadata": {},
   "outputs": [],
   "source": [
    "bow = CountVectorizer(analyzer=process_text).fit_transform(training['unittitle'])"
   ]
  },
  {
   "cell_type": "code",
   "execution_count": 13,
   "id": "4007c79f",
   "metadata": {},
   "outputs": [],
   "source": [
    "X_train, X_test, y_train, y_test = train_test_split(bow, training['function'], test_size=0.20, random_state=0)"
   ]
  },
  {
   "cell_type": "code",
   "execution_count": 14,
   "id": "7aabafb0",
   "metadata": {},
   "outputs": [
    {
     "data": {
      "text/plain": [
       "(10561, 8458)"
      ]
     },
     "execution_count": 14,
     "metadata": {},
     "output_type": "execute_result"
    }
   ],
   "source": [
    "bow.shape"
   ]
  },
  {
   "cell_type": "code",
   "execution_count": 16,
   "id": "79c982e3",
   "metadata": {},
   "outputs": [],
   "source": [
    "classifier = MultinomialNB().fit(X_train, y_train)"
   ]
  },
  {
   "cell_type": "code",
   "execution_count": 29,
   "id": "9a588719",
   "metadata": {},
   "outputs": [
    {
     "name": "stdout",
     "output_type": "stream",
     "text": [
      "[0 1 0 ... 0 1 0]\n",
      "[0 1 1 ... 0 1 0]\n"
     ]
    }
   ],
   "source": [
    "print(classifier.predict(X_train))\n",
    "print(y_train.values)"
   ]
  },
  {
   "cell_type": "code",
   "execution_count": 30,
   "id": "8e4fb9f6",
   "metadata": {},
   "outputs": [
    {
     "name": "stdout",
     "output_type": "stream",
     "text": [
      "              precision    recall  f1-score   support\n",
      "\n",
      "           0       0.96      1.00      0.98      7660\n",
      "           1       0.98      0.74      0.85       575\n",
      "           2       1.00      0.14      0.25       213\n",
      "\n",
      "    accuracy                           0.96      8448\n",
      "   macro avg       0.98      0.63      0.69      8448\n",
      "weighted avg       0.96      0.96      0.95      8448\n",
      "\n",
      "Confusion Matrix: \n",
      " [[7657    3    0]\n",
      " [ 147  428    0]\n",
      " [ 179    4   30]]\n",
      "Accuracy:  0.9605823863636364\n"
     ]
    }
   ],
   "source": [
    "pred = classifier.predict(X_train)\n",
    "print(classification_report(y_train, pred))\n",
    "print('Confusion Matrix: \\n', confusion_matrix(y_train,pred))\n",
    "print('Accuracy: ', accuracy_score(y_train, pred))"
   ]
  },
  {
   "cell_type": "code",
   "execution_count": 31,
   "id": "f7facf8c",
   "metadata": {},
   "outputs": [
    {
     "name": "stdout",
     "output_type": "stream",
     "text": [
      "              precision    recall  f1-score   support\n",
      "\n",
      "           0       0.96      1.00      0.98      1903\n",
      "           1       0.99      0.72      0.83       166\n",
      "           2       1.00      0.05      0.09        44\n",
      "\n",
      "    accuracy                           0.96      2113\n",
      "   macro avg       0.98      0.59      0.63      2113\n",
      "weighted avg       0.96      0.96      0.95      2113\n",
      "\n",
      "Confusion Matrix: \n",
      " [[1902    1    0]\n",
      " [  47  119    0]\n",
      " [  42    0    2]]\n",
      "Accuracy:  0.9574065309985802\n"
     ]
    }
   ],
   "source": [
    "pred = classifier.predict(X_test)\n",
    "print(classification_report(y_test, pred))\n",
    "print('Confusion Matrix: \\n', confusion_matrix(y_test,pred))\n",
    "print('Accuracy: ', accuracy_score(y_test, pred))"
   ]
  },
  {
   "cell_type": "code",
   "execution_count": null,
   "id": "ed698cf4",
   "metadata": {},
   "outputs": [],
   "source": []
  }
 ],
 "metadata": {
  "kernelspec": {
   "display_name": "Python 3 (ipykernel)",
   "language": "python",
   "name": "python3"
  },
  "language_info": {
   "codemirror_mode": {
    "name": "ipython",
    "version": 3
   },
   "file_extension": ".py",
   "mimetype": "text/x-python",
   "name": "python",
   "nbconvert_exporter": "python",
   "pygments_lexer": "ipython3",
   "version": "3.8.12"
  }
 },
 "nbformat": 4,
 "nbformat_minor": 5
}
