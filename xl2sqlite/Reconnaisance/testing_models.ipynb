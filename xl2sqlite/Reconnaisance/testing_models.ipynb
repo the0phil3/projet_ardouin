{
 "cells": [
  {
   "cell_type": "code",
   "execution_count": 1,
   "id": "1a186f10",
   "metadata": {},
   "outputs": [
    {
     "name": "stderr",
     "output_type": "stream",
     "text": [
      "2023-01-19 13:33:19.122643: I tensorflow/core/platform/cpu_feature_guard.cc:193] This TensorFlow binary is optimized with oneAPI Deep Neural Network Library (oneDNN) to use the following CPU instructions in performance-critical operations:  AVX2 FMA\n",
      "To enable them in other operations, rebuild TensorFlow with the appropriate compiler flags.\n",
      "/usr/local/anaconda3/lib/python3.9/site-packages/fuzzywuzzy/fuzz.py:11: UserWarning: Using slow pure-python SequenceMatcher. Install python-Levenshtein to remove this warning\n",
      "  warnings.warn('Using slow pure-python SequenceMatcher. Install python-Levenshtein to remove this warning')\n"
     ]
    }
   ],
   "source": [
    "import tensorflow as tf\n",
    "import numpy as np\n",
    "import pandas as pd\n",
    "from transformers import BertTokenizer\n",
    "from ML import prep_data"
   ]
  },
  {
   "cell_type": "code",
   "execution_count": 2,
   "id": "a8585ee1",
   "metadata": {},
   "outputs": [
    {
     "name": "stderr",
     "output_type": "stream",
     "text": [
      "2023-01-19 13:33:29.293367: I tensorflow/core/platform/cpu_feature_guard.cc:193] This TensorFlow binary is optimized with oneAPI Deep Neural Network Library (oneDNN) to use the following CPU instructions in performance-critical operations:  AVX2 FMA\n",
      "To enable them in other operations, rebuild TensorFlow with the appropriate compiler flags.\n"
     ]
    }
   ],
   "source": [
    "model = tf.keras.models.load_model('/Users/Theo/Desktop/categorie_model_v.1/')"
   ]
  },
  {
   "cell_type": "code",
   "execution_count": 3,
   "id": "1eec37ec",
   "metadata": {},
   "outputs": [],
   "source": [
    "test = prep_data(\"Lettres ministérielles, 1 er juillet 1673\")"
   ]
  },
  {
   "cell_type": "code",
   "execution_count": 4,
   "id": "0b3e604a",
   "metadata": {},
   "outputs": [
    {
     "data": {
      "text/plain": [
       "{'input_ids': <tf.Tensor: shape=(1, 25), dtype=float64, numpy=\n",
       " array([[  101.,  2421., 20357.,  8715.,  2050., 23081., 12132.,   117.,\n",
       "           122., 14044.,   179., 16966.,  5765., 17866.,  1495.,   102.,\n",
       "             0.,     0.,     0.,     0.,     0.,     0.,     0.,     0.,\n",
       "             0.]])>,\n",
       " 'attention_mask': <tf.Tensor: shape=(1, 25), dtype=float64, numpy=\n",
       " array([[1., 1., 1., 1., 1., 1., 1., 1., 1., 1., 1., 1., 1., 1., 1., 1.,\n",
       "         0., 0., 0., 0., 0., 0., 0., 0., 0.]])>}"
      ]
     },
     "execution_count": 4,
     "metadata": {},
     "output_type": "execute_result"
    }
   ],
   "source": [
    "test"
   ]
  },
  {
   "cell_type": "code",
   "execution_count": 5,
   "id": "7742d78c",
   "metadata": {},
   "outputs": [
    {
     "name": "stdout",
     "output_type": "stream",
     "text": [
      "1/1 [==============================] - 1s 1s/step\n"
     ]
    },
    {
     "data": {
      "text/plain": [
       "array([[0.12251136, 0.32680917, 0.5506795 ]], dtype=float32)"
      ]
     },
     "execution_count": 5,
     "metadata": {},
     "output_type": "execute_result"
    }
   ],
   "source": [
    "classement = model.predict(test)\n",
    "\n",
    "classement"
   ]
  },
  {
   "cell_type": "code",
   "execution_count": 6,
   "id": "3cd2c430",
   "metadata": {},
   "outputs": [
    {
     "data": {
      "text/plain": [
       "2"
      ]
     },
     "execution_count": 6,
     "metadata": {},
     "output_type": "execute_result"
    }
   ],
   "source": [
    "resultat = np.argmax(classement[0])\n",
    "\n",
    "resultat"
   ]
  },
  {
   "cell_type": "code",
   "execution_count": 7,
   "id": "3952e463",
   "metadata": {},
   "outputs": [],
   "source": [
    "data = pd.read_csv('onglet1.tsv', sep='\\t')\n",
    "data = data.sample(frac=1).reset_index(drop=True)"
   ]
  },
  {
   "cell_type": "code",
   "execution_count": 8,
   "id": "23d910b3",
   "metadata": {},
   "outputs": [
    {
     "data": {
      "text/html": [
       "<div>\n",
       "<style scoped>\n",
       "    .dataframe tbody tr th:only-of-type {\n",
       "        vertical-align: middle;\n",
       "    }\n",
       "\n",
       "    .dataframe tbody tr th {\n",
       "        vertical-align: top;\n",
       "    }\n",
       "\n",
       "    .dataframe thead th {\n",
       "        text-align: right;\n",
       "    }\n",
       "</style>\n",
       "<table border=\"1\" class=\"dataframe\">\n",
       "  <thead>\n",
       "    <tr style=\"text-align: right;\">\n",
       "      <th></th>\n",
       "      <th>unittitle</th>\n",
       "    </tr>\n",
       "  </thead>\n",
       "  <tbody>\n",
       "    <tr>\n",
       "      <th>0</th>\n",
       "      <td>Ardillon, François</td>\n",
       "    </tr>\n",
       "    <tr>\n",
       "      <th>1</th>\n",
       "      <td>Clercau</td>\n",
       "    </tr>\n",
       "    <tr>\n",
       "      <th>2</th>\n",
       "      <td>André, Pierre dit Feytins</td>\n",
       "    </tr>\n",
       "    <tr>\n",
       "      <th>3</th>\n",
       "      <td>Pezet</td>\n",
       "    </tr>\n",
       "    <tr>\n",
       "      <th>4</th>\n",
       "      <td>Bellivau</td>\n",
       "    </tr>\n",
       "    <tr>\n",
       "      <th>...</th>\n",
       "      <td>...</td>\n",
       "    </tr>\n",
       "    <tr>\n",
       "      <th>12471</th>\n",
       "      <td>Gallot, Louis</td>\n",
       "    </tr>\n",
       "    <tr>\n",
       "      <th>12472</th>\n",
       "      <td>Morienne, sieur de</td>\n",
       "    </tr>\n",
       "    <tr>\n",
       "      <th>12473</th>\n",
       "      <td>Duquesne, madame</td>\n",
       "    </tr>\n",
       "    <tr>\n",
       "      <th>12474</th>\n",
       "      <td>Nieuport, le vaisseau le</td>\n",
       "    </tr>\n",
       "    <tr>\n",
       "      <th>12475</th>\n",
       "      <td>Calmalh, de</td>\n",
       "    </tr>\n",
       "  </tbody>\n",
       "</table>\n",
       "<p>12476 rows × 1 columns</p>\n",
       "</div>"
      ],
      "text/plain": [
       "                       unittitle\n",
       "0             Ardillon, François\n",
       "1                        Clercau\n",
       "2      André, Pierre dit Feytins\n",
       "3                          Pezet\n",
       "4                       Bellivau\n",
       "...                          ...\n",
       "12471              Gallot, Louis\n",
       "12472         Morienne, sieur de\n",
       "12473           Duquesne, madame\n",
       "12474   Nieuport, le vaisseau le\n",
       "12475                Calmalh, de\n",
       "\n",
       "[12476 rows x 1 columns]"
      ]
     },
     "execution_count": 8,
     "metadata": {},
     "output_type": "execute_result"
    }
   ],
   "source": [
    "data"
   ]
  },
  {
   "cell_type": "code",
   "execution_count": 9,
   "id": "a0b83b79",
   "metadata": {},
   "outputs": [
    {
     "data": {
      "text/plain": [
       "(12476, 1)"
      ]
     },
     "execution_count": 9,
     "metadata": {},
     "output_type": "execute_result"
    }
   ],
   "source": [
    "data.shape"
   ]
  },
  {
   "cell_type": "code",
   "execution_count": 10,
   "id": "0908e19b",
   "metadata": {},
   "outputs": [
    {
     "data": {
      "text/plain": [
       "0           Ardillon, François\n",
       "1                      Clercau\n",
       "2    André, Pierre dit Feytins\n",
       "3                        Pezet\n",
       "4                     Bellivau\n",
       "Name: unittitle, dtype: object"
      ]
     },
     "execution_count": 10,
     "metadata": {},
     "output_type": "execute_result"
    }
   ],
   "source": [
    "data.unittitle.head()"
   ]
  },
  {
   "cell_type": "code",
   "execution_count": 11,
   "id": "4db6d2ad",
   "metadata": {},
   "outputs": [],
   "source": [
    "unittitle = data.pop('unittitle')"
   ]
  },
  {
   "cell_type": "code",
   "execution_count": 12,
   "id": "c93981ed",
   "metadata": {},
   "outputs": [],
   "source": [
    "# je le test juste avec le head pour economiser mon temps \n",
    "prep_unittitle=unittitle.head().apply(prep_data)"
   ]
  },
  {
   "cell_type": "code",
   "execution_count": 13,
   "id": "38044196",
   "metadata": {},
   "outputs": [
    {
     "data": {
      "text/plain": [
       "0    {'input_ids': ((tf.Tensor(101.0, shape=(), dty...\n",
       "1    {'input_ids': ((tf.Tensor(101.0, shape=(), dty...\n",
       "2    {'input_ids': ((tf.Tensor(101.0, shape=(), dty...\n",
       "3    {'input_ids': ((tf.Tensor(101.0, shape=(), dty...\n",
       "4    {'input_ids': ((tf.Tensor(101.0, shape=(), dty...\n",
       "Name: unittitle, dtype: object"
      ]
     },
     "execution_count": 13,
     "metadata": {},
     "output_type": "execute_result"
    }
   ],
   "source": [
    "prep_unittitle"
   ]
  },
  {
   "cell_type": "code",
   "execution_count": 14,
   "id": "ce92eab9",
   "metadata": {},
   "outputs": [
    {
     "name": "stdout",
     "output_type": "stream",
     "text": [
      "1/1 [==============================] - 0s 90ms/step\n",
      "1/1 [==============================] - 0s 86ms/step\n",
      "1/1 [==============================] - 0s 87ms/step\n",
      "1/1 [==============================] - 0s 90ms/step\n",
      "1/1 [==============================] - 0s 88ms/step\n"
     ]
    }
   ],
   "source": [
    "probability = []\n",
    "for i in range(len(prep_unittitle)):\n",
    "    probability.append(model.predict(prep_unittitle[i]))"
   ]
  },
  {
   "cell_type": "code",
   "execution_count": 15,
   "id": "2462d067",
   "metadata": {},
   "outputs": [
    {
     "data": {
      "text/plain": [
       "[array([[9.9993634e-01, 3.2853517e-05, 3.0765314e-05]], dtype=float32),\n",
       " array([[9.9959320e-01, 8.0489866e-05, 3.2632923e-04]], dtype=float32),\n",
       " array([[9.9991763e-01, 4.0643474e-05, 4.1666150e-05]], dtype=float32),\n",
       " array([[9.996145e-01, 7.958342e-05, 3.059278e-04]], dtype=float32),\n",
       " array([[9.9980146e-01, 5.1582898e-05, 1.4698006e-04]], dtype=float32)]"
      ]
     },
     "execution_count": 15,
     "metadata": {},
     "output_type": "execute_result"
    }
   ],
   "source": [
    "probability"
   ]
  },
  {
   "cell_type": "code",
   "execution_count": 16,
   "id": "c68ec295",
   "metadata": {},
   "outputs": [],
   "source": [
    "predictions = []\n",
    "for i in probability:\n",
    "    predictions.append(np.argmax(i))"
   ]
  },
  {
   "cell_type": "code",
   "execution_count": 17,
   "id": "c1ba6362",
   "metadata": {},
   "outputs": [
    {
     "data": {
      "text/plain": [
       "[0, 0, 0, 0, 0]"
      ]
     },
     "execution_count": 17,
     "metadata": {},
     "output_type": "execute_result"
    }
   ],
   "source": [
    "predictions"
   ]
  }
 ],
 "metadata": {
  "kernelspec": {
   "display_name": "Python 3 (ipykernel)",
   "language": "python",
   "name": "python3"
  },
  "language_info": {
   "codemirror_mode": {
    "name": "ipython",
    "version": 3
   },
   "file_extension": ".py",
   "mimetype": "text/x-python",
   "name": "python",
   "nbconvert_exporter": "python",
   "pygments_lexer": "ipython3",
   "version": "3.9.13"
  }
 },
 "nbformat": 4,
 "nbformat_minor": 5
}
