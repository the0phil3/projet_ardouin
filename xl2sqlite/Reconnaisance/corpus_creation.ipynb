{
 "cells": [
  {
   "cell_type": "code",
   "execution_count": 1,
   "id": "1c37c916",
   "metadata": {},
   "outputs": [],
   "source": [
    "from functions2 import *\n",
    "from collections import Counter"
   ]
  },
  {
   "cell_type": "code",
   "execution_count": 2,
   "id": "9059e22f",
   "metadata": {},
   "outputs": [],
   "source": [
    "latotale = pd.read_csv('latotale.tsv',sep=\"\\t\", header=0) \n",
    "onglet1 = pd.read_excel('~/dev/projet_ardouin/sources/sources_excel/Ardouin en 1 onglet.xls', header=0)"
   ]
  },
  {
   "cell_type": "code",
   "execution_count": 3,
   "id": "dd91ef67",
   "metadata": {},
   "outputs": [],
   "source": [
    "onglet1=onglet1.drop_duplicates(subset=['Intitulé / analyse\\nNom lieu\\nNom personne\\nAffaires diverses'])\n",
    "onglet1 = onglet1.rename(columns={'Intitulé / analyse\\nNom lieu\\nNom personne\\nAffaires diverses': 'unittitle' })"
   ]
  },
  {
   "cell_type": "code",
   "execution_count": 4,
   "id": "b66a969f",
   "metadata": {},
   "outputs": [],
   "source": [
    "onglet1 = onglet1[['unittitle']]"
   ]
  },
  {
   "cell_type": "code",
   "execution_count": 5,
   "id": "a3f982d7",
   "metadata": {},
   "outputs": [],
   "source": [
    "onglet1=onglet1.dropna(how='any')"
   ]
  },
  {
   "cell_type": "code",
   "execution_count": 6,
   "id": "e8e27309",
   "metadata": {},
   "outputs": [],
   "source": [
    "onglet1 = onglet1.drop_duplicates(subset=['unittitle'], keep='first')"
   ]
  },
  {
   "cell_type": "code",
   "execution_count": 7,
   "id": "a26ccf50",
   "metadata": {},
   "outputs": [],
   "source": [
    "onglet1.to_csv('onglet1.tsv', sep=\"\\t\", index=False)"
   ]
  },
  {
   "cell_type": "code",
   "execution_count": 8,
   "id": "2b1d8e8b",
   "metadata": {},
   "outputs": [],
   "source": [
    "latotale = pd.read_csv('latotale.tsv', sep=\"\\t\", header=0)\n",
    "onglet1 = pd.read_csv('onglet1.tsv', sep=\"\\t\", header=0)"
   ]
  },
  {
   "cell_type": "code",
   "execution_count": 9,
   "id": "fe230274",
   "metadata": {},
   "outputs": [],
   "source": [
    "del latotale['function']"
   ]
  },
  {
   "cell_type": "code",
   "execution_count": 10,
   "id": "4c9c3e4a",
   "metadata": {},
   "outputs": [],
   "source": [
    "diff = pd.concat([latotale,onglet1], join='inner').drop_duplicates(keep=False)"
   ]
  },
  {
   "cell_type": "code",
   "execution_count": 11,
   "id": "f6604dab",
   "metadata": {},
   "outputs": [
    {
     "data": {
      "text/html": [
       "<div>\n",
       "<style scoped>\n",
       "    .dataframe tbody tr th:only-of-type {\n",
       "        vertical-align: middle;\n",
       "    }\n",
       "\n",
       "    .dataframe tbody tr th {\n",
       "        vertical-align: top;\n",
       "    }\n",
       "\n",
       "    .dataframe thead th {\n",
       "        text-align: right;\n",
       "    }\n",
       "</style>\n",
       "<table border=\"1\" class=\"dataframe\">\n",
       "  <thead>\n",
       "    <tr style=\"text-align: right;\">\n",
       "      <th></th>\n",
       "      <th>unittitle</th>\n",
       "    </tr>\n",
       "  </thead>\n",
       "  <tbody>\n",
       "    <tr>\n",
       "      <th>4159</th>\n",
       "      <td>Bapaume, Peufier dit</td>\n",
       "    </tr>\n",
       "    <tr>\n",
       "      <th>4598</th>\n",
       "      <td>Durand,Jean</td>\n",
       "    </tr>\n",
       "    <tr>\n",
       "      <th>4601</th>\n",
       "      <td>Duranteau,la nommée</td>\n",
       "    </tr>\n",
       "    <tr>\n",
       "      <th>4603</th>\n",
       "      <td>Durivaud (Alias Du Rivau,Du Rivaux</td>\n",
       "    </tr>\n",
       "    <tr>\n",
       "      <th>4608</th>\n",
       "      <td>Duroulet,Delle</td>\n",
       "    </tr>\n",
       "    <tr>\n",
       "      <th>...</th>\n",
       "      <td>...</td>\n",
       "    </tr>\n",
       "    <tr>\n",
       "      <th>11524</th>\n",
       "      <td>Villette, madame de</td>\n",
       "    </tr>\n",
       "    <tr>\n",
       "      <th>11525</th>\n",
       "      <td>Volivert, Thomas</td>\n",
       "    </tr>\n",
       "    <tr>\n",
       "      <th>11526</th>\n",
       "      <td>Volvire, de</td>\n",
       "    </tr>\n",
       "    <tr>\n",
       "      <th>11527</th>\n",
       "      <td>Vouillay, de</td>\n",
       "    </tr>\n",
       "    <tr>\n",
       "      <th>11528</th>\n",
       "      <td>Vozain, Olivier de</td>\n",
       "    </tr>\n",
       "  </tbody>\n",
       "</table>\n",
       "<p>4896 rows × 1 columns</p>\n",
       "</div>"
      ],
      "text/plain": [
       "                                unittitle\n",
       "4159                 Bapaume, Peufier dit\n",
       "4598                          Durand,Jean\n",
       "4601                  Duranteau,la nommée\n",
       "4603   Durivaud (Alias Du Rivau,Du Rivaux\n",
       "4608                       Duroulet,Delle\n",
       "...                                   ...\n",
       "11524                 Villette, madame de\n",
       "11525                    Volivert, Thomas\n",
       "11526                         Volvire, de\n",
       "11527                        Vouillay, de\n",
       "11528                  Vozain, Olivier de\n",
       "\n",
       "[4896 rows x 1 columns]"
      ]
     },
     "execution_count": 11,
     "metadata": {},
     "output_type": "execute_result"
    }
   ],
   "source": [
    "diff"
   ]
  },
  {
   "cell_type": "code",
   "execution_count": 12,
   "id": "990b0c89",
   "metadata": {},
   "outputs": [],
   "source": [
    "better_diff = pd.merge(onglet1, latotale, how='left')"
   ]
  },
  {
   "cell_type": "code",
   "execution_count": 13,
   "id": "e71618cd",
   "metadata": {},
   "outputs": [
    {
     "data": {
      "text/html": [
       "<div>\n",
       "<style scoped>\n",
       "    .dataframe tbody tr th:only-of-type {\n",
       "        vertical-align: middle;\n",
       "    }\n",
       "\n",
       "    .dataframe tbody tr th {\n",
       "        vertical-align: top;\n",
       "    }\n",
       "\n",
       "    .dataframe thead th {\n",
       "        text-align: right;\n",
       "    }\n",
       "</style>\n",
       "<table border=\"1\" class=\"dataframe\">\n",
       "  <thead>\n",
       "    <tr style=\"text-align: right;\">\n",
       "      <th></th>\n",
       "      <th>unittitle</th>\n",
       "    </tr>\n",
       "  </thead>\n",
       "  <tbody>\n",
       "    <tr>\n",
       "      <th>0</th>\n",
       "      <td>Argenton</td>\n",
       "    </tr>\n",
       "    <tr>\n",
       "      <th>1</th>\n",
       "      <td>Arnoul</td>\n",
       "    </tr>\n",
       "    <tr>\n",
       "      <th>2</th>\n",
       "      <td>Banville, Sieur de</td>\n",
       "    </tr>\n",
       "    <tr>\n",
       "      <th>3</th>\n",
       "      <td>Baroire, le président de</td>\n",
       "    </tr>\n",
       "    <tr>\n",
       "      <th>4</th>\n",
       "      <td>Baugier, Edmé-Antoine</td>\n",
       "    </tr>\n",
       "    <tr>\n",
       "      <th>...</th>\n",
       "      <td>...</td>\n",
       "    </tr>\n",
       "    <tr>\n",
       "      <th>12471</th>\n",
       "      <td>Vivier Paul</td>\n",
       "    </tr>\n",
       "    <tr>\n",
       "      <th>12472</th>\n",
       "      <td>Vogt Martin</td>\n",
       "    </tr>\n",
       "    <tr>\n",
       "      <th>12473</th>\n",
       "      <td>Volage, la frégate la</td>\n",
       "    </tr>\n",
       "    <tr>\n",
       "      <th>12474</th>\n",
       "      <td>Weltmuller, André</td>\n",
       "    </tr>\n",
       "    <tr>\n",
       "      <th>12475</th>\n",
       "      <td>Zimmerman Bolloramus</td>\n",
       "    </tr>\n",
       "  </tbody>\n",
       "</table>\n",
       "<p>12476 rows × 1 columns</p>\n",
       "</div>"
      ],
      "text/plain": [
       "                      unittitle\n",
       "0                      Argenton\n",
       "1                        Arnoul\n",
       "2            Banville, Sieur de\n",
       "3      Baroire, le président de\n",
       "4         Baugier, Edmé-Antoine\n",
       "...                         ...\n",
       "12471              Vivier Paul \n",
       "12472               Vogt Martin\n",
       "12473     Volage, la frégate la\n",
       "12474         Weltmuller, André\n",
       "12475      Zimmerman Bolloramus\n",
       "\n",
       "[12476 rows x 1 columns]"
      ]
     },
     "execution_count": 13,
     "metadata": {},
     "output_type": "execute_result"
    }
   ],
   "source": [
    "better_diff"
   ]
  },
  {
   "cell_type": "code",
   "execution_count": 14,
   "id": "d2093d38",
   "metadata": {},
   "outputs": [],
   "source": [
    "new_diff = pd.DataFrame(list(\n",
    "    (Counter(map(tuple, latotale.values)) -\n",
    "     Counter(map(tuple, better_diff.values))).keys()\n",
    "), columns=['unittitle'])\n"
   ]
  },
  {
   "cell_type": "code",
   "execution_count": 15,
   "id": "e4ce057d",
   "metadata": {},
   "outputs": [],
   "source": [
    "new_diff = new_diff.dropna()"
   ]
  },
  {
   "cell_type": "code",
   "execution_count": 16,
   "id": "c904d0af",
   "metadata": {},
   "outputs": [],
   "source": [
    "new_diff.to_csv('diff.tsv', sep=\"\\t\", index=False)"
   ]
  }
 ],
 "metadata": {
  "kernelspec": {
   "display_name": "Python 3 (ipykernel)",
   "language": "python",
   "name": "python3"
  },
  "language_info": {
   "codemirror_mode": {
    "name": "ipython",
    "version": 3
   },
   "file_extension": ".py",
   "mimetype": "text/x-python",
   "name": "python",
   "nbconvert_exporter": "python",
   "pygments_lexer": "ipython3",
   "version": "3.9.13"
  }
 },
 "nbformat": 4,
 "nbformat_minor": 5
}
