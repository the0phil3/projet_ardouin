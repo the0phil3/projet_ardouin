{
 "cells": [
  {
   "cell_type": "code",
   "execution_count": 1,
   "id": "10e2e712",
   "metadata": {},
   "outputs": [],
   "source": [
    "import os\n",
    "import pandas as pd\n",
    "import numpy as np \n",
    "import seaborn as sns \n",
    "import matplotlib.pyplot as plt"
   ]
  },
  {
   "cell_type": "code",
   "execution_count": 3,
   "id": "7e396ce1",
   "metadata": {},
   "outputs": [],
   "source": [
    " path = \"/Users/Theo/dev/projet_ardouin/xl2sqlite/output/v.2/\""
   ]
  },
  {
   "cell_type": "code",
   "execution_count": null,
   "id": "602f8456",
   "metadata": {},
   "outputs": [],
   "source": []
  }
 ],
 "metadata": {
  "kernelspec": {
   "display_name": "Python 3 (ipykernel)",
   "language": "python",
   "name": "python3"
  },
  "language_info": {
   "codemirror_mode": {
    "name": "ipython",
    "version": 3
   },
   "file_extension": ".py",
   "mimetype": "text/x-python",
   "name": "python",
   "nbconvert_exporter": "python",
   "pygments_lexer": "ipython3",
   "version": "3.9.13"
  }
 },
 "nbformat": 4,
 "nbformat_minor": 5
}
