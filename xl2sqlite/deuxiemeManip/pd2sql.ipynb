{
 "cells": [
  {
   "cell_type": "code",
   "execution_count": 1,
   "id": "d43cfc69",
   "metadata": {},
   "outputs": [],
   "source": [
    "from sql import *"
   ]
  },
  {
   "cell_type": "code",
   "execution_count": 2,
   "id": "6444b856",
   "metadata": {},
   "outputs": [],
   "source": [
    "ExecuteSQL(\"/Users/Theo/dev/projet_ardouin/xl2sqlite/output/v.2/final.db\", \"/Users/Theo/dev/projet_ardouin/xl2sqlite/deuxiemeManip/architecture.sql\")\n",
    "\n"
   ]
  },
  {
   "cell_type": "code",
   "execution_count": 3,
   "id": "6542731c",
   "metadata": {},
   "outputs": [
    {
     "name": "stderr",
     "output_type": "stream",
     "text": [
      "/var/folders/41/1r7_f1_93g56d738vfqw0y8m0000gn/T/ipykernel_17315/4173595002.py:3: DtypeWarning: Columns (6,7,8,14,15,21,26) have mixed types. Specify dtype option on import or set low_memory=False.\n",
      "  did =  pd.read_csv('/Users/Theo/dev/projet_ardouin/xl2sqlite/output/v.2/did.tsv', sep='\\t', header=0)\n"
     ]
    }
   ],
   "source": [
    "master = pd.read_csv('/Users/Theo/dev/projet_ardouin/xl2sqlite/output/v.2/master.tsv', sep='\\t', header=0)\n",
    "scopecontent =  pd.read_csv('/Users/Theo/dev/projet_ardouin/xl2sqlite/output/v.2/scopecontent.tsv', sep='\\t', header=0)\n",
    "did =  pd.read_csv('/Users/Theo/dev/projet_ardouin/xl2sqlite/output/v.2/did.tsv', sep='\\t', header=0)\n",
    "controlaccess = pd.read_csv('/Users/Theo/dev/projet_ardouin/xl2sqlite/output/v.2/controlaccess.tsv',sep='\\t', header=0)\n"
   ]
  },
  {
   "cell_type": "code",
   "execution_count": 4,
   "id": "4c8e3b0c",
   "metadata": {},
   "outputs": [],
   "source": [
    "tablesList = ['master','did','scopecontent', 'controlaccess']\n",
    "FillTables(\"/Users/Theo/dev/projet_ardouin/xl2sqlite/output/v.2/final.db\", master, did, scopecontent, controlaccess, titles=tablesList)\n",
    "\n",
    "\n"
   ]
  }
 ],
 "metadata": {
  "kernelspec": {
   "display_name": "Python 3 (ipykernel)",
   "language": "python",
   "name": "python3"
  },
  "language_info": {
   "codemirror_mode": {
    "name": "ipython",
    "version": 3
   },
   "file_extension": ".py",
   "mimetype": "text/x-python",
   "name": "python",
   "nbconvert_exporter": "python",
   "pygments_lexer": "ipython3",
   "version": "3.9.13"
  }
 },
 "nbformat": 4,
 "nbformat_minor": 5
}
