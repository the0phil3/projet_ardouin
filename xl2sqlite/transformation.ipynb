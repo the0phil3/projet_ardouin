{
 "cells": [
  {
   "cell_type": "markdown",
   "id": "1eca97bb",
   "metadata": {},
   "source": [
    "# Creation d'une base de données SQL \n",
    "L'architecture de ma base de données se situe dans le fichier architecture.sql et fonctions sont dans sql.py"
   ]
  },
  {
   "cell_type": "code",
   "execution_count": 1,
   "id": "661780fe",
   "metadata": {},
   "outputs": [],
   "source": [
    "from sql import *"
   ]
  },
  {
   "cell_type": "code",
   "execution_count": 2,
   "id": "63f8f9ec",
   "metadata": {},
   "outputs": [
    {
     "data": {
      "text/plain": [
       "'/Users/Theo/dev/projet_ardouin/xl2sql'"
      ]
     },
     "execution_count": 2,
     "metadata": {},
     "output_type": "execute_result"
    }
   ],
   "source": [
    "pwd"
   ]
  },
  {
   "cell_type": "code",
   "execution_count": 3,
   "id": "ba6c8fc6",
   "metadata": {},
   "outputs": [
    {
     "name": "stdout",
     "output_type": "stream",
     "text": [
      "total 2136\r\n",
      "drwxr-xr-x  12 Theo  staff      384 Jun 14 11:42 \u001b[34m.\u001b[m\u001b[m/\r\n",
      "drwxr-xr-x  12 Theo  staff      384 Jun 14 11:15 \u001b[34m..\u001b[m\u001b[m/\r\n",
      "-rw-r--r--@  1 Theo  staff     6148 Jun 14 10:42 .DS_Store\r\n",
      "drwxr-xr-x   4 Theo  staff      128 Jun 13 16:18 \u001b[34m.ipynb_checkpoints\u001b[m\u001b[m/\r\n",
      "drwxr-xr-x   6 Theo  staff      192 Jun 14 11:42 \u001b[34mII\u001b[m\u001b[m/\r\n",
      "drwxr-xr-x   4 Theo  staff      128 Jun 14 11:42 \u001b[34m__pycache__\u001b[m\u001b[m/\r\n",
      "-rw-r--r--   1 Theo  staff     1279 Jun 14 11:41 architecture.sql\r\n",
      "-rw-r--r--   1 Theo  staff     4185 Jun 14 11:41 functions.py\r\n",
      "-rw-r--r--   1 Theo  staff    61315 Jun 14 11:15 reorganisation.ipynb\r\n",
      "-rw-r--r--   1 Theo  staff     1194 Jun 14 11:15 sql.py\r\n",
      "-rw-r--r--   1 Theo  staff  1003520 Jun 14 11:15 tome2.db\r\n",
      "-rw-r--r--   1 Theo  staff     4003 Jun 14 11:42 transformation.ipynb\r\n"
     ]
    }
   ],
   "source": [
    "ls -all"
   ]
  },
  {
   "cell_type": "markdown",
   "id": "dacd6a66",
   "metadata": {},
   "source": [
    "### La fonction qui créé la base de données"
   ]
  },
  {
   "cell_type": "code",
   "execution_count": 4,
   "id": "536dc541",
   "metadata": {},
   "outputs": [],
   "source": [
    "ExecuteSQL(\"/Users/Theo/dev/projet_ardouin/xl2sql/II/tome2.db\", \"/Users/Theo/dev/projet_ardouin/xl2sql/architecture.sql\")"
   ]
  },
  {
   "cell_type": "markdown",
   "id": "4885cc69",
   "metadata": {},
   "source": [
    "### J'importe mes fichiers excel que j'ai créé grace au code reorganisation"
   ]
  },
  {
   "cell_type": "code",
   "execution_count": 5,
   "id": "6bfdfbf2",
   "metadata": {},
   "outputs": [],
   "source": [
    "master = pd.read_excel('~/dev/projet_ardouin/xl2sql/II/master_table.xlsx', header=0)\n",
    "contents =  pd.read_excel('~/dev/projet_ardouin/xl2sql/II/contenu_table.xlsx', header=0)\n",
    "archives =  pd.read_excel('~/dev/projet_ardouin/xl2sql/II/archives_table.xlsx', header=0)"
   ]
  },
  {
   "cell_type": "markdown",
   "id": "9bcd2ae4",
   "metadata": {},
   "source": [
    "### Je remplie les données excel dans la base de données SQL"
   ]
  },
  {
   "cell_type": "code",
   "execution_count": 6,
   "id": "ed535dd7",
   "metadata": {},
   "outputs": [],
   "source": [
    "tablesList = ['master','contents','archives']\n",
    "FillTables(\"/Users/Theo/dev/projet_ardouin/xl2sql/II/tome2.db\", master, contents, archives, titles=tablesList)"
   ]
  }
 ],
 "metadata": {
  "kernelspec": {
   "display_name": "Python 3 (ipykernel)",
   "language": "python",
   "name": "python3"
  },
  "language_info": {
   "codemirror_mode": {
    "name": "ipython",
    "version": 3
   },
   "file_extension": ".py",
   "mimetype": "text/x-python",
   "name": "python",
   "nbconvert_exporter": "python",
   "pygments_lexer": "ipython3",
   "version": "3.8.12"
  }
 },
 "nbformat": 4,
 "nbformat_minor": 5
}
