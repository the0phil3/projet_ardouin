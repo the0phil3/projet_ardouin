{
 "cells": [
  {
   "cell_type": "markdown",
   "id": "1eca97bb",
   "metadata": {},
   "source": [
    "# Creation d'une base de données SQL \n",
    "L'architecture de ma base de données se situe dans le fichier architecture.sql"
   ]
  },
  {
   "cell_type": "code",
   "execution_count": 1,
   "id": "661780fe",
   "metadata": {},
   "outputs": [],
   "source": [
    "from functions import *"
   ]
  },
  {
   "cell_type": "code",
   "execution_count": null,
   "id": "6d6bbf61",
   "metadata": {},
   "outputs": [],
   "source": [
    "db_run = sqlite3.connect(\"tome2.db\")\n",
    "c = db_run.cursor()"
   ]
  },
  {
   "cell_type": "code",
   "execution_count": null,
   "id": "fcecdb68",
   "metadata": {},
   "outputs": [],
   "source": [
    "# On crée la table master pour tester\n",
    "\n",
    "c.execute(\n",
    "    \"\"\"\n",
    "    CREATE TABLE master (\n",
    "        nom TEXT NOT NULL,\n",
    "        type TEXT NOT NULL,\n",
    "        ID TEXT NOT NULL,\n",
    "        PRIMARY KEY(ID),\n",
    "        FOREIGN KEY(nom) REFERENCES name(nom),\n",
    "        FOREIGN KEY(type) REFERENCES category(type)\n",
    "        );\n",
    "     \"\"\"\n",
    ")\n",
    "db_run.close()"
   ]
  },
  {
   "cell_type": "code",
   "execution_count": null,
   "id": "ed535dd7",
   "metadata": {},
   "outputs": [],
   "source": [
    "tablesList = ['master']\n",
    "FillTables(\"tome2.db\", master, titles=tablesList)"
   ]
  }
 ],
 "metadata": {
  "kernelspec": {
   "display_name": "Python 3 (ipykernel)",
   "language": "python",
   "name": "python3"
  },
  "language_info": {
   "codemirror_mode": {
    "name": "ipython",
    "version": 3
   },
   "file_extension": ".py",
   "mimetype": "text/x-python",
   "name": "python",
   "nbconvert_exporter": "python",
   "pygments_lexer": "ipython3",
   "version": "3.8.12"
  }
 },
 "nbformat": 4,
 "nbformat_minor": 5
}
