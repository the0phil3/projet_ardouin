{
 "cells": [
  {
   "cell_type": "code",
   "execution_count": 1,
   "id": "85d548a7",
   "metadata": {},
   "outputs": [],
   "source": [
    "import lxml.etree as etree\n",
    "import lxml.builder\n",
    "import lxml.objectify\n",
    "import os"
   ]
  },
  {
   "cell_type": "code",
   "execution_count": 2,
   "id": "f560e2e9",
   "metadata": {},
   "outputs": [],
   "source": [
    "tree=etree.parse(\"tome1_202206221022.xml\")\n",
    "root=tree.getroot()"
   ]
  },
  {
   "cell_type": "code",
   "execution_count": 12,
   "id": "dd782dc1",
   "metadata": {},
   "outputs": [],
   "source": [
    "dsc = etree.Element('dsc')\n",
    "c = etree.SubElement(dsc, 'c', {'level':'item','id': \"aID\"})\n",
    "\n",
    "did = etree.SubElement(c , 'did')\n",
    "unitid = etree.SubElement(did, 'unitid', {'type': 'cote'}).text = 'cote (Mircofilm MR MI {mf}), folio {f1, f2, f3, f4, f5, f6, f7, f8, f9, f10, f11, f12, f13, f14, f15, f16, f17, f18, f19, f20, f21, f22, f23, f24, f25}' \n",
    "unittitle = etree.SubElement(did, 'unittitle').text = 'unittitle'\n",
    "unitdate = etree.SubElement(did, 'unitdate', {'normal':'dateD/dateF'}).text = 'dateD'\n",
    "\n",
    "scopecontent = etree.SubElement(c, 'scopecontent')\n",
    "p = etree.SubElement(scopecontent, 'p').text = 'Tables Ardouin, tome {tome}, page {page}'\n",
    "\n",
    "controlaccess = etree.SubElement(c, 'controlaccess')\n",
    "function = etree.SubElement(controlaccess, 'function').text = 'function'\n",
    "name = etree.SubElement(controlaccess, 'name', {'id' : 'ID'}).text = 'unittitle'\n",
    "subject = etree.SubElement(controlaccess, 'subject', {'id':'cID'}).text = 'contenu'\n"
   ]
  },
  {
   "cell_type": "code",
   "execution_count": 13,
   "id": "280c0076",
   "metadata": {},
   "outputs": [
    {
     "name": "stdout",
     "output_type": "stream",
     "text": [
      "b'<dsc><c level=\"item\" id=\"aID\"><did><unitid type=\"cote\">cote (Mircofilm MR MI {mf}), folio {f1, f2, f3, f4, f5, f6, f7, f8, f9, f10, f11, f12, f13, f14, f15, f16, f17, f18, f19, f20, f21, f22, f23, f24, f25}</unitid><unittitle>unittitle</unittitle><unitdate normal=\"dateD/dateF\">dateD</unitdate></did><scopecontent><p>Tables Ardouin, tome {tome}, page {page}</p></scopecontent><controlaccess><function>function</function><name id=\"ID\">unittitle</name><subject id=\"cID\">contenu</subject></controlaccess></c></dsc>'\n"
     ]
    }
   ],
   "source": [
    "print(etree.tostring(dsc))"
   ]
  },
  {
   "cell_type": "code",
   "execution_count": null,
   "id": "e3d96740",
   "metadata": {},
   "outputs": [],
   "source": []
  }
 ],
 "metadata": {
  "kernelspec": {
   "display_name": "Python 3 (ipykernel)",
   "language": "python",
   "name": "python3"
  },
  "language_info": {
   "codemirror_mode": {
    "name": "ipython",
    "version": 3
   },
   "file_extension": ".py",
   "mimetype": "text/x-python",
   "name": "python",
   "nbconvert_exporter": "python",
   "pygments_lexer": "ipython3",
   "version": "3.8.12"
  }
 },
 "nbformat": 4,
 "nbformat_minor": 5
}
