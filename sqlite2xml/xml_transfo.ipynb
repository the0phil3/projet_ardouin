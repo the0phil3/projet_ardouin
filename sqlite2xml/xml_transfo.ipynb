{
 "cells": [
  {
   "cell_type": "code",
   "execution_count": 12,
   "id": "85d548a7",
   "metadata": {},
   "outputs": [
    {
     "name": "stdout",
     "output_type": "stream",
     "text": [
      "b'<root>\\n  <doc>\\n    <field1 name=\"blah\">some value1</field1>\\n    <field2 name=\"asdfasd\">some value2</field2>\\n  </doc>\\n</root>\\n'\n"
     ]
    }
   ],
   "source": [
    "import lxml.etree\n",
    "import lxml.builder    \n",
    "\n",
    "E = lxml.builder.ElementMaker()\n",
    "ROOT = E.root\n",
    "DOC = E.doc\n",
    "FIELD1 = E.field1\n",
    "FIELD2 = E.field2\n",
    "\n",
    "the_doc = ROOT(\n",
    "        DOC(\n",
    "            FIELD1('some value1', name='blah'),\n",
    "            FIELD2('some value2', name='asdfasd'),\n",
    "            )   \n",
    "        )   \n",
    "\n",
    "print(lxml.etree.tostring(the_doc, pretty_print=True))"
   ]
  },
  {
   "cell_type": "code",
   "execution_count": null,
   "id": "912c6e73",
   "metadata": {},
   "outputs": [],
   "source": []
  }
 ],
 "metadata": {
  "kernelspec": {
   "display_name": "Python 3 (ipykernel)",
   "language": "python",
   "name": "python3"
  },
  "language_info": {
   "codemirror_mode": {
    "name": "ipython",
    "version": 3
   },
   "file_extension": ".py",
   "mimetype": "text/x-python",
   "name": "python",
   "nbconvert_exporter": "python",
   "pygments_lexer": "ipython3",
   "version": "3.8.12"
  }
 },
 "nbformat": 4,
 "nbformat_minor": 5
}
